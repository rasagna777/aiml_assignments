{
 "cells": [
  {
   "cell_type": "code",
   "execution_count": 2,
   "id": "4fc4440a-aee5-47f0-abd0-432dec4e9fe0",
   "metadata": {},
   "outputs": [],
   "source": [
    "#Strings: Collection of alpha numeric characters\n",
    "#Immutable\n",
    "#Indexing allowed\n",
    "#Iterable objects"
   ]
  },
  {
   "cell_type": "code",
   "execution_count": 4,
   "id": "83268920-0414-4cc9-a632-6def905e501b",
   "metadata": {},
   "outputs": [],
   "source": [
    "str1 = \"Welcome aiml class\"\n",
    "str2 = '''We started with python'''\n",
    "str3 = 'This an awesome class'"
   ]
  },
  {
   "cell_type": "code",
   "execution_count": 6,
   "id": "30c8f6d4-448e-4acf-b106-614bdcbcc29f",
   "metadata": {},
   "outputs": [
    {
     "name": "stdout",
     "output_type": "stream",
     "text": [
      "<class 'str'>\n",
      "<class 'str'>\n",
      "<class 'str'>\n"
     ]
    }
   ],
   "source": [
    "print(type(str1))\n",
    "print(type(str2))\n",
    "print(type(str3))"
   ]
  },
  {
   "cell_type": "code",
   "execution_count": 8,
   "id": "2bc010e2-5b06-4ea8-9c24-ed5365a20271",
   "metadata": {},
   "outputs": [
    {
     "name": "stdout",
     "output_type": "stream",
     "text": [
      "Welcome aiml class\n"
     ]
    },
    {
     "data": {
      "text/plain": [
       "'me ai'"
      ]
     },
     "execution_count": 8,
     "metadata": {},
     "output_type": "execute_result"
    }
   ],
   "source": [
    "#Slicing in strings\n",
    "print(str1)\n",
    "str1[5:10]"
   ]
  },
  {
   "cell_type": "code",
   "execution_count": 12,
   "id": "37e95c41-c230-4b2b-bc50-9ac2759dd40c",
   "metadata": {},
   "outputs": [
    {
     "data": {
      "text/plain": [
       "['__add__',\n",
       " '__class__',\n",
       " '__contains__',\n",
       " '__delattr__',\n",
       " '__dir__',\n",
       " '__doc__',\n",
       " '__eq__',\n",
       " '__format__',\n",
       " '__ge__',\n",
       " '__getattribute__',\n",
       " '__getitem__',\n",
       " '__getnewargs__',\n",
       " '__getstate__',\n",
       " '__gt__',\n",
       " '__hash__',\n",
       " '__init__',\n",
       " '__init_subclass__',\n",
       " '__iter__',\n",
       " '__le__',\n",
       " '__len__',\n",
       " '__lt__',\n",
       " '__mod__',\n",
       " '__mul__',\n",
       " '__ne__',\n",
       " '__new__',\n",
       " '__reduce__',\n",
       " '__reduce_ex__',\n",
       " '__repr__',\n",
       " '__rmod__',\n",
       " '__rmul__',\n",
       " '__setattr__',\n",
       " '__sizeof__',\n",
       " '__str__',\n",
       " '__subclasshook__',\n",
       " 'capitalize',\n",
       " 'casefold',\n",
       " 'center',\n",
       " 'count',\n",
       " 'encode',\n",
       " 'endswith',\n",
       " 'expandtabs',\n",
       " 'find',\n",
       " 'format',\n",
       " 'format_map',\n",
       " 'index',\n",
       " 'isalnum',\n",
       " 'isalpha',\n",
       " 'isascii',\n",
       " 'isdecimal',\n",
       " 'isdigit',\n",
       " 'isidentifier',\n",
       " 'islower',\n",
       " 'isnumeric',\n",
       " 'isprintable',\n",
       " 'isspace',\n",
       " 'istitle',\n",
       " 'isupper',\n",
       " 'join',\n",
       " 'ljust',\n",
       " 'lower',\n",
       " 'lstrip',\n",
       " 'maketrans',\n",
       " 'partition',\n",
       " 'removeprefix',\n",
       " 'removesuffix',\n",
       " 'replace',\n",
       " 'rfind',\n",
       " 'rindex',\n",
       " 'rjust',\n",
       " 'rpartition',\n",
       " 'rsplit',\n",
       " 'rstrip',\n",
       " 'split',\n",
       " 'splitlines',\n",
       " 'startswith',\n",
       " 'strip',\n",
       " 'swapcase',\n",
       " 'title',\n",
       " 'translate',\n",
       " 'upper',\n",
       " 'zfill']"
      ]
     },
     "execution_count": 12,
     "metadata": {},
     "output_type": "execute_result"
    }
   ],
   "source": [
    "dir(str)"
   ]
  },
  {
   "cell_type": "code",
   "execution_count": 16,
   "id": "6a9f1f2a-5ce9-4ded-b1f9-5e3152452ede",
   "metadata": {},
   "outputs": [
    {
     "name": "stdout",
     "output_type": "stream",
     "text": [
      "Welcome aiml class\n"
     ]
    },
    {
     "data": {
      "text/plain": [
       "['Welcome', 'aiml', 'class']"
      ]
     },
     "execution_count": 16,
     "metadata": {},
     "output_type": "execute_result"
    }
   ],
   "source": [
    "#Split() method is for list of word tokens\n",
    "print(str1)\n",
    "str1.split()"
   ]
  },
  {
   "cell_type": "code",
   "execution_count": 18,
   "id": "5c8a24d9-9c5d-461f-a717-ceeae2fb8b14",
   "metadata": {},
   "outputs": [
    {
     "data": {
      "text/plain": [
       "'WWelcome aiml classeWelcome aiml class Welcome aiml classsWelcome aiml classtWelcome aiml classaWelcome aiml classrWelcome aiml classtWelcome aiml classeWelcome aiml classdWelcome aiml class Welcome aiml classwWelcome aiml classiWelcome aiml classtWelcome aiml classhWelcome aiml class Welcome aiml classpWelcome aiml classyWelcome aiml classtWelcome aiml classhWelcome aiml classoWelcome aiml classn'"
      ]
     },
     "execution_count": 18,
     "metadata": {},
     "output_type": "execute_result"
    }
   ],
   "source": [
    "#Use of join()\n",
    "str1.join(str2)"
   ]
  },
  {
   "cell_type": "code",
   "execution_count": 22,
   "id": "d6f96b86-fb1b-4454-83a1-2790c6e9fda9",
   "metadata": {},
   "outputs": [
    {
     "data": {
      "text/plain": [
       "'H e l l o .   H o w   a r e   y o u ?'"
      ]
     },
     "execution_count": 22,
     "metadata": {},
     "output_type": "execute_result"
    }
   ],
   "source": [
    "str4 = \"Hello. How are you?\"\n",
    "' '.join(str4)"
   ]
  },
  {
   "cell_type": "code",
   "execution_count": 28,
   "id": "a356798d-9f6b-41a0-8d15-37fc5b23580d",
   "metadata": {},
   "outputs": [
    {
     "data": {
      "text/plain": [
       "'    Hello, How are u?    '"
      ]
     },
     "execution_count": 28,
     "metadata": {},
     "output_type": "execute_result"
    }
   ],
   "source": [
    "#Use of strip() method: to remove empty spaces\n",
    "str5 = \"    Hello, How are u?    \"\n",
    "str5"
   ]
  },
  {
   "cell_type": "code",
   "execution_count": 30,
   "id": "b4871e3d-eeee-4622-a33b-fee601174d16",
   "metadata": {},
   "outputs": [
    {
     "data": {
      "text/plain": [
       "'Hello, How are u?'"
      ]
     },
     "execution_count": 30,
     "metadata": {},
     "output_type": "execute_result"
    }
   ],
   "source": [
    "str5.strip()"
   ]
  },
  {
   "cell_type": "code",
   "execution_count": 32,
   "id": "2e4b6f79-2a61-48a1-8001-4780c38710e0",
   "metadata": {},
   "outputs": [
    {
     "name": "stdin",
     "output_type": "stream",
     "text": [
      "Enter a positive integer:  10\n"
     ]
    },
    {
     "name": "stdout",
     "output_type": "stream",
     "text": [
      "Sum of all even numbers: 30\n"
     ]
    }
   ],
   "source": [
    "n = int(input(\"Enter a positive integer: \"))\n",
    "sum_even = 0\n",
    "\n",
    "for i in range(2, n + 1, 2):\n",
    "    sum_even += i\n",
    "\n",
    "print(\"Sum of all even numbers:\", sum_even)"
   ]
  },
  {
   "cell_type": "code",
   "execution_count": 34,
   "id": "c13876c4-5499-4f9d-a4ee-cae6ca2fa93c",
   "metadata": {},
   "outputs": [],
   "source": [
    "# Example dictionary for product sales analysis\n",
    "sales_data = {\n",
    "    \"ProductID\": [101, 102, 103, 104, 105, 106, 107, 108, 109, 110],\n",
    "    \"ProductName\": [\"Laptop\", \"Mouse\", \"Keyboard\", \"Monitor\", \"Chair\", \"Desk\", \"Webcam\", \"Headphones\", \"Printer\", \"Tablet\"],\n",
    "    \"Category\": [\"Electronics\", \"Accessories\", \"Accessories\", \"Electronics\", \"Furniture\", \"Furniture\", \"Electronics\", \"Accessories\", \"Electronics\", \"Electronics\"],\n",
    "    \"PriceRange\": [\"High\", \"Low\", \"Low\", \"Medium\", \"Medium\", \"Medium\", \"Low\", \"Low\", \"Medium\", \"High\"],\n",
    "    \"StockAvailable\": [15, 100, 75, 20, 10, 8, 50, 60, 25, 12],\n",
    "}"
   ]
  },
  {
   "cell_type": "code",
   "execution_count": 36,
   "id": "b436faf5-2fb7-4b33-be7f-9c9e928be063",
   "metadata": {},
   "outputs": [
    {
     "name": "stdout",
     "output_type": "stream",
     "text": [
      "ProductID {101, 102, 103, 104, 105, 106, 107, 108, 109, 110},/n\n",
      "ProductName {'Laptop', 'Chair', 'Headphones', 'Mouse', 'Printer', 'Webcam', 'Keyboard', 'Desk', 'Tablet', 'Monitor'},/n\n",
      "Category {'Accessories', 'Furniture', 'Electronics'},/n\n",
      "PriceRange {'High', 'Medium', 'Low'},/n\n",
      "StockAvailable {100, 8, 10, 75, 12, 15, 50, 20, 25, 60},/n\n"
     ]
    }
   ],
   "source": [
    "for k,v in sales_data.items():\n",
    "    print(k,set(v), end =',')\n",
    "    print('/n')"
   ]
  },
  {
   "cell_type": "code",
   "execution_count": 38,
   "id": "d5e17e69-efbe-4d7f-875b-8056007753f6",
   "metadata": {},
   "outputs": [
    {
     "data": {
      "text/plain": [
       "{'Review1': {'WordCount': 14,\n",
       "  'UniqueWords': ['delivery',\n",
       "   'the',\n",
       "   'product',\n",
       "   'is',\n",
       "   'functionality',\n",
       "   'prompt',\n",
       "   'was',\n",
       "   'versatile',\n",
       "   'excellent',\n",
       "   'and',\n",
       "   'quality']},\n",
       " 'Review2': {'WordCount': 15,\n",
       "  'UniqueWords': ['customer',\n",
       "   'the',\n",
       "   'been',\n",
       "   'service',\n",
       "   'better',\n",
       "   'has',\n",
       "   'improve',\n",
       "   'could',\n",
       "   'have',\n",
       "   'packaging',\n",
       "   'good',\n",
       "   'but',\n",
       "   'to']},\n",
       " 'Review3': {'WordCount': 18,\n",
       "  'UniqueWords': ['customer',\n",
       "   'very',\n",
       "   'as',\n",
       "   'the',\n",
       "   'i',\n",
       "   'product',\n",
       "   'is',\n",
       "   'works',\n",
       "   'excellent',\n",
       "   'support',\n",
       "   'fine',\n",
       "   'helpful',\n",
       "   'rate',\n",
       "   'not',\n",
       "   'but']}}"
      ]
     },
     "execution_count": 38,
     "metadata": {},
     "output_type": "execute_result"
    }
   ],
   "source": [
    "# Original reviews dictionary\n",
    "reviews = {\n",
    "    \"Review1\": \"The product quality is excellent and delivery was prompt. The product functionality is versatile\",\n",
    "    \"Review2\": \"Good service but the packaging could have been better. The customer service has to improve\",\n",
    "    \"Review3\": \"The product works fine, but the customer support is not very helpful. I rate the product as excellent\",\n",
    "}\n",
    "\n",
    "# Result dictionary to store analysis of reviews\n",
    "review_analysis = {}\n",
    "\n",
    "# Process each review\n",
    "for key, review in reviews.items():\n",
    "    # Split the review into words\n",
    "    words = review.lower().replace('.', '').replace(',', '').split()\n",
    "    # Create a sub-dictionary with word count and unique words\n",
    "    review_analysis[key] = {\n",
    "        \"WordCount\": len(words),\n",
    "        \"UniqueWords\": list(set(words))\n",
    "    }\n",
    "\n",
    "review_analysis\n"
   ]
  },
  {
   "cell_type": "code",
   "execution_count": null,
   "id": "4bb70afa-9d19-43a8-bf3c-c69b31f32f13",
   "metadata": {},
   "outputs": [],
   "source": []
  }
 ],
 "metadata": {
  "kernelspec": {
   "display_name": "Python [conda env:base] *",
   "language": "python",
   "name": "conda-base-py"
  },
  "language_info": {
   "codemirror_mode": {
    "name": "ipython",
    "version": 3
   },
   "file_extension": ".py",
   "mimetype": "text/x-python",
   "name": "python",
   "nbconvert_exporter": "python",
   "pygments_lexer": "ipython3",
   "version": "3.12.7"
  }
 },
 "nbformat": 4,
 "nbformat_minor": 5
}
