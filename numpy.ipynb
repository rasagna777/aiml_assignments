{
 "cells": [
  {
   "cell_type": "code",
   "execution_count": 1,
   "id": "a34e2b53-ab5b-45c7-be82-1e33c6584741",
   "metadata": {},
   "outputs": [],
   "source": [
    "import numpy as np"
   ]
  },
  {
   "cell_type": "code",
   "execution_count": 7,
   "id": "68b26049-c2f1-44cd-951d-131404ee877a",
   "metadata": {},
   "outputs": [
    {
     "name": "stdout",
     "output_type": "stream",
     "text": [
      "[40 67 57 90]\n",
      "<class 'numpy.ndarray'>\n"
     ]
    }
   ],
   "source": [
    "#dir(np)\n",
    "#1D array\n",
    "x = np.array([40,67,57,90])\n",
    "print(x)\n",
    "print(type(x))"
   ]
  },
  {
   "cell_type": "code",
   "execution_count": 5,
   "id": "51a0ed4d-917e-4407-854e-7a20bc542a26",
   "metadata": {},
   "outputs": [],
   "source": [
    "#array accepts homogeneous data type\n",
    "#list accepts heterogeneous dat type"
   ]
  },
  {
   "cell_type": "code",
   "execution_count": 11,
   "id": "a391f337-e3d4-4e07-b641-3ff7bdc38078",
   "metadata": {},
   "outputs": [
    {
     "name": "stdout",
     "output_type": "stream",
     "text": [
      "[[20 40]\n",
      " [30 60]]\n",
      "<class 'numpy.ndarray'>\n",
      "(2, 2)\n"
     ]
    }
   ],
   "source": [
    "#Create a 2D array\n",
    "a2 = np.array([[20,40],[30,60]])\n",
    "print(a2)\n",
    "print(type(a2))\n",
    "print(a2.shape)"
   ]
  },
  {
   "cell_type": "code",
   "execution_count": 15,
   "id": "a3b53eca-0b5e-4286-b122-0670f05dd75b",
   "metadata": {},
   "outputs": [
    {
     "name": "stdout",
     "output_type": "stream",
     "text": [
      "[['1' 'A' '9.8']\n",
      " ['2' 'B' '10.3']]\n",
      "<class 'numpy.ndarray'>\n",
      "(2, 3)\n"
     ]
    }
   ],
   "source": [
    "a3 = np.array([[1,'A',9.8],[2,'B',10.3]])\n",
    "print(a3)\n",
    "print(type(a3))\n",
    "print(a3.shape)"
   ]
  },
  {
   "cell_type": "code",
   "execution_count": null,
   "id": "e3e339d9-a15c-4a33-b075-caccb1a6f63f",
   "metadata": {},
   "outputs": [],
   "source": []
  }
 ],
 "metadata": {
  "kernelspec": {
   "display_name": "Python [conda env:base] *",
   "language": "python",
   "name": "conda-base-py"
  },
  "language_info": {
   "codemirror_mode": {
    "name": "ipython",
    "version": 3
   },
   "file_extension": ".py",
   "mimetype": "text/x-python",
   "name": "python",
   "nbconvert_exporter": "python",
   "pygments_lexer": "ipython3",
   "version": "3.12.7"
  }
 },
 "nbformat": 4,
 "nbformat_minor": 5
}
