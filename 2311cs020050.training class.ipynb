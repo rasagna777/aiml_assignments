{
 "cells": [
  {
   "cell_type": "code",
   "execution_count": 1,
   "id": "64d2cc57-40e5-4030-9de0-8e0d8e3ba684",
   "metadata": {},
   "outputs": [
    {
     "name": "stdout",
     "output_type": "stream",
     "text": [
      "[200, 10, 98]\n",
      "[53, 25, 87]\n"
     ]
    }
   ],
   "source": [
    "list = [200, 10, 53, 25, 87, 98]\n",
    "even_list = [num for num in list if num % 2 == 0]\n",
    "odd_list = [num for num in list if num % 2 != 0]\n",
    "print(even_list)\n",
    "print(odd_list)"
   ]
  },
  {
   "cell_type": "code",
   "execution_count": 3,
   "id": "f94010c9-e41b-494d-ab4a-e3c1d398ed4e",
   "metadata": {},
   "outputs": [
    {
     "data": {
      "text/plain": [
       "False"
      ]
     },
     "execution_count": 3,
     "metadata": {},
     "output_type": "execute_result"
    }
   ],
   "source": [
    "(10<7) or (6==5)"
   ]
  },
  {
   "cell_type": "code",
   "execution_count": 5,
   "id": "bcc06b3e-291b-40b4-9b69-68335888038a",
   "metadata": {},
   "outputs": [
    {
     "data": {
      "text/plain": [
       "False"
      ]
     },
     "execution_count": 5,
     "metadata": {},
     "output_type": "execute_result"
    }
   ],
   "source": [
    "(10<7) and (6 == 6)"
   ]
  },
  {
   "cell_type": "code",
   "execution_count": 7,
   "id": "c2f29e48-657c-479e-9898-664f092dbc65",
   "metadata": {},
   "outputs": [
    {
     "data": {
      "text/plain": [
       "True"
      ]
     },
     "execution_count": 7,
     "metadata": {},
     "output_type": "execute_result"
    }
   ],
   "source": [
    "list = [30, 40, 4, 0]\n",
    "4 in list"
   ]
  },
  {
   "cell_type": "code",
   "execution_count": 9,
   "id": "3b66f775-dd89-45a9-a309-7f6141d8ead8",
   "metadata": {},
   "outputs": [
    {
     "data": {
      "text/plain": [
       "False"
      ]
     },
     "execution_count": 9,
     "metadata": {},
     "output_type": "execute_result"
    }
   ],
   "source": [
    "4 not in [30, 40, 4, 0]"
   ]
  },
  {
   "cell_type": "code",
   "execution_count": 11,
   "id": "79b37ac3-f5ec-40ec-8d4d-904c2c7f87a1",
   "metadata": {},
   "outputs": [
    {
     "name": "stdout",
     "output_type": "stream",
     "text": [
      "20\n",
      "[20, 30]\n",
      "[20, 30, 40]\n",
      "[10, 20, 30]\n",
      "[10, 20, 30, 40]\n"
     ]
    }
   ],
   "source": [
    "my_list = [10, 20, 30, 40]\n",
    "print(my_list[1])\n",
    "print(my_list[1:3])\n",
    "print(my_list[1:])\n",
    "print(my_list[:3])\n",
    "print(my_list[:])"
   ]
  },
  {
   "cell_type": "code",
   "execution_count": 13,
   "id": "7638daec-4341-4783-a373-0e91e4a1713d",
   "metadata": {},
   "outputs": [
    {
     "data": {
      "text/plain": [
       "3.618033988749895"
      ]
     },
     "execution_count": 13,
     "metadata": {},
     "output_type": "execute_result"
    }
   ],
   "source": [
    "a = 1\n",
    "b = -5\n",
    "c = 5\n",
    "root1 = ((-1*b) + (b**2 - 4*a*c)**0.5) / 2*a\n",
    "root1"
   ]
  },
  {
   "cell_type": "code",
   "execution_count": 15,
   "id": "39c3d1b6-75e1-4c80-8369-de5ebf3db728",
   "metadata": {},
   "outputs": [
    {
     "data": {
      "text/plain": [
       "1.381966011250105"
      ]
     },
     "execution_count": 15,
     "metadata": {},
     "output_type": "execute_result"
    }
   ],
   "source": [
    "a = 1\n",
    "b = -5\n",
    "c = 5\n",
    "root2 = ((-1*b) - (b**2 - 4*a*c)**0.5) / 2*a\n",
    "root2"
   ]
  },
  {
   "cell_type": "code",
   "execution_count": 25,
   "id": "11110900-9568-40ab-bee5-8972bc46756b",
   "metadata": {},
   "outputs": [
    {
     "name": "stdout",
     "output_type": "stream",
     "text": [
      "30\n",
      "60\n",
      "90\n",
      "120\n"
     ]
    }
   ],
   "source": [
    "#accessing element directly\n",
    "my_list = [10, 20, 30, 40]\n",
    "for item in my_list:\n",
    "    print(3*item)"
   ]
  },
  {
   "cell_type": "code",
   "execution_count": 23,
   "id": "03383f03-e7f6-4d2c-a2aa-f49bb75d6499",
   "metadata": {},
   "outputs": [
    {
     "name": "stdout",
     "output_type": "stream",
     "text": [
      "30\n",
      "60\n",
      "90\n",
      "120\n"
     ]
    }
   ],
   "source": [
    "#accessing using index value\n",
    "my_list = [10, 20, 30, 40]\n",
    "for x in range(len(my_list)):\n",
    "    print(3*my_list[x])"
   ]
  },
  {
   "cell_type": "code",
   "execution_count": 83,
   "id": "4f6e5a2e-0098-4f5c-9df4-4838cd426691",
   "metadata": {},
   "outputs": [
    {
     "data": {
      "text/plain": [
       "[['apple', 10], ['banana', 5], ['cherry', 7], ['banana', 5], ['date', 12]]"
      ]
     },
     "execution_count": 83,
     "metadata": {},
     "output_type": "execute_result"
    }
   ],
   "source": [
    "orders = [[\"apple\", 10], [\"banana\", 5], [\"cherry\", 7], [\"banana\", 5]]\n",
    "new_order1 = [\"date\", 12]\n",
    "orders.append(new_order1)\n",
    "orders"
   ]
  },
  {
   "cell_type": "code",
   "execution_count": 85,
   "id": "932a2c3c-8375-49d8-af7e-fbeafc697836",
   "metadata": {},
   "outputs": [
    {
     "data": {
      "text/plain": [
       "[['apple', 10],\n",
       " ['banana', 5],\n",
       " ['cherry', 7],\n",
       " ['banana', 5],\n",
       " ['date', 12],\n",
       " ['date', 10],\n",
       " ['mango', 6]]"
      ]
     },
     "execution_count": 85,
     "metadata": {},
     "output_type": "execute_result"
    }
   ],
   "source": [
    "new_orders = [[\"date\", 10], [\"mango\", 6]]\n",
    "orders.extend(new_orders)\n",
    "orders"
   ]
  },
  {
   "cell_type": "code",
   "execution_count": 87,
   "id": "a35e8af9-0e23-48cf-816d-4cebacae20b7",
   "metadata": {},
   "outputs": [
    {
     "data": {
      "text/plain": [
       "[['apple', 10],\n",
       " ['banana', 5],\n",
       " ['cherry', 7],\n",
       " ['dragon', 10],\n",
       " ['banana', 5],\n",
       " ['date', 12],\n",
       " ['date', 10],\n",
       " ['mango', 6]]"
      ]
     },
     "execution_count": 87,
     "metadata": {},
     "output_type": "execute_result"
    }
   ],
   "source": [
    "new_order2 = [\"dragon\", 10]\n",
    "orders.insert(3,new_order2)\n",
    "orders"
   ]
  },
  {
   "cell_type": "code",
   "execution_count": 89,
   "id": "f1212853-a36e-4344-a27c-8f4c9b6da080",
   "metadata": {},
   "outputs": [
    {
     "data": {
      "text/plain": [
       "['dragon', 10]"
      ]
     },
     "execution_count": 89,
     "metadata": {},
     "output_type": "execute_result"
    }
   ],
   "source": [
    "#remove a duplicate order\n",
    "orders.pop(3)"
   ]
  },
  {
   "cell_type": "code",
   "execution_count": 97,
   "id": "3def77f7-4c1b-44e5-9090-4c1118d8c7ce",
   "metadata": {},
   "outputs": [],
   "source": [
    "#Using for loop print the quantity of dragon\n",
    "for item in orders:\n",
    "    if item[0] == \"dragon\":\n",
    "        print(item[1])           "
   ]
  },
  {
   "cell_type": "code",
   "execution_count": 37,
   "id": "657fcf05-d1e8-49e2-92c3-a20ef55aeabb",
   "metadata": {},
   "outputs": [
    {
     "name": "stdout",
     "output_type": "stream",
     "text": [
      "[['apple', 10], ['banana', 5], ['cherry', 10], ['dragon', 10], ['grape', 9]]\n"
     ]
    }
   ],
   "source": [
    "orders = [['apple', 10], ['banana', 5], ['cherry', 7], ['dragon', 10], ['grape', 9]]\n",
    "for each in orders:\n",
    "    if each[0] == \"cherry\":\n",
    "        each[1] = 10\n",
    "print(orders)"
   ]
  },
  {
   "cell_type": "code",
   "execution_count": 47,
   "id": "933e6d64-c522-40c5-95f4-dcf54b4df9de",
   "metadata": {},
   "outputs": [
    {
     "name": "stdout",
     "output_type": "stream",
     "text": [
      "[['apple', 10], ['banana', 5], ['cherry', 10], ['dragon', 10], ['grape', 9], ['apple', 10], ['apple', 10], ['apple', 10]]\n"
     ]
    }
   ],
   "source": [
    "orders.append([\"apple\", 10])\n",
    "print(orders)"
   ]
  },
  {
   "cell_type": "code",
   "execution_count": 49,
   "id": "b13af54d-6b52-4f38-9e0b-c4fa65a6ead4",
   "metadata": {},
   "outputs": [
    {
     "name": "stdout",
     "output_type": "stream",
     "text": [
      "[10, 10, 10, 10]\n",
      "40\n"
     ]
    }
   ],
   "source": [
    "total = []\n",
    "for each_item in orders:\n",
    "    if each_item[0] == \"apple\":\n",
    "        total.append(each_item[1])\n",
    "print(total)\n",
    "print(sum(total))"
   ]
  },
  {
   "cell_type": "code",
   "execution_count": 57,
   "id": "1491be7a-f550-4569-a790-5e5b1095f94f",
   "metadata": {},
   "outputs": [
    {
     "name": "stdout",
     "output_type": "stream",
     "text": [
      "(3, 4, 9, 'A', 5.2)\n",
      "('Hello', 5, 10, 20)\n",
      "(1, 2, 3, 4)\n",
      "<class 'tuple'>\n",
      "<class 'tuple'>\n",
      "<class 'tuple'>\n"
     ]
    }
   ],
   "source": [
    "#Tuples \n",
    "Tup1 = (3, 4, 9, 'A', 5.2)\n",
    "Tup2 = \"Hello\", 5, 10, 20\n",
    "Tup3 = tuple([1, 2, 3, 4])\n",
    "print(Tup1)\n",
    "print(Tup2)\n",
    "print(Tup3)\n",
    "print(type(Tup1))\n",
    "print(type(Tup2))\n",
    "print(type(Tup3))"
   ]
  },
  {
   "cell_type": "code",
   "execution_count": 59,
   "id": "855b5940-a790-41ce-9afc-f9f9a85b285b",
   "metadata": {},
   "outputs": [
    {
     "data": {
      "text/plain": [
       "(9, 'A')"
      ]
     },
     "execution_count": 59,
     "metadata": {},
     "output_type": "execute_result"
    }
   ],
   "source": [
    "#Slicing the tuple\n",
    "Tup1 = (3, 4, 9, 'A', 5.2)\n",
    "Tup1[2:4]"
   ]
  },
  {
   "cell_type": "code",
   "execution_count": 61,
   "id": "b83ee63f-e62a-47af-80e8-c46951f2b3a7",
   "metadata": {},
   "outputs": [
    {
     "data": {
      "text/plain": [
       "(20,)"
      ]
     },
     "execution_count": 61,
     "metadata": {},
     "output_type": "execute_result"
    }
   ],
   "source": [
    "Tup2 = \"Hello\", 5, 10, 20\n",
    "Tup2[3:5]"
   ]
  },
  {
   "cell_type": "code",
   "execution_count": 65,
   "id": "1bd35a23-692f-402c-94fe-61b7c882fb91",
   "metadata": {},
   "outputs": [
    {
     "data": {
      "text/plain": [
       "4"
      ]
     },
     "execution_count": 65,
     "metadata": {},
     "output_type": "execute_result"
    }
   ],
   "source": [
    "#index() method\n",
    "Tup1.index(5.2)"
   ]
  },
  {
   "cell_type": "code",
   "execution_count": 67,
   "id": "d55c4922-b413-4ba1-ab4b-f42d4d59d787",
   "metadata": {},
   "outputs": [
    {
     "data": {
      "text/plain": [
       "4"
      ]
     },
     "execution_count": 67,
     "metadata": {},
     "output_type": "execute_result"
    }
   ],
   "source": [
    "#count() method to count\n",
    "Tup2 = (10, 20, 30, 10, 40, 10, 50, 10)\n",
    "Tup2.count(10)"
   ]
  },
  {
   "cell_type": "code",
   "execution_count": 69,
   "id": "ca424b1d-7dc9-4367-aabb-78f6898cf4d4",
   "metadata": {},
   "outputs": [],
   "source": [
    "#Dictionaries\n",
    "#dic = {key : value pairs}\n",
    "#They are mutable\n",
    "#unordered\n",
    "#Keys must be hashable and unique\n",
    "#values can be of any data types"
   ]
  },
  {
   "cell_type": "code",
   "execution_count": 71,
   "id": "ac07a59b-2531-41ce-af9c-aed4af16ed09",
   "metadata": {},
   "outputs": [
    {
     "name": "stdout",
     "output_type": "stream",
     "text": [
      "{'a': 1, 'b': 2, 'c': 3}\n",
      "<class 'dict'>\n"
     ]
    }
   ],
   "source": [
    "#Create dictionary using {} braces\n",
    "d1 = {\"a\": 1, \"b\": 2, \"c\": 3}\n",
    "print(d1)\n",
    "print(type(d1))"
   ]
  },
  {
   "cell_type": "code",
   "execution_count": 73,
   "id": "cdea7973-ff0d-4adb-8166-21f383f56914",
   "metadata": {},
   "outputs": [
    {
     "name": "stdout",
     "output_type": "stream",
     "text": [
      "{'A': 10, 'B': 20, 'C': 30}\n"
     ]
    }
   ],
   "source": [
    "#create dictionary using dict() constructor\n",
    "d2 = dict(A=10, B=20, C=30)\n",
    "print(d2)"
   ]
  },
  {
   "cell_type": "code",
   "execution_count": 75,
   "id": "7c1a126b-cf9f-4e17-931b-4d9b4d46099a",
   "metadata": {},
   "outputs": [
    {
     "name": "stdout",
     "output_type": "stream",
     "text": [
      "{'x': 1, 'y': 2, 'z': 3}\n"
     ]
    }
   ],
   "source": [
    "#Create dictionary with a list of tuples\n",
    "d3 = dict([(\"x\", 1), (\"y\", 2), (\"z\", 3)])\n",
    "print(d3)"
   ]
  },
  {
   "cell_type": "code",
   "execution_count": 1,
   "id": "1163820e-818e-4147-8249-5f73fc88094d",
   "metadata": {},
   "outputs": [
    {
     "data": {
      "text/plain": [
       "['__class__',\n",
       " '__class_getitem__',\n",
       " '__contains__',\n",
       " '__delattr__',\n",
       " '__delitem__',\n",
       " '__dir__',\n",
       " '__doc__',\n",
       " '__eq__',\n",
       " '__format__',\n",
       " '__ge__',\n",
       " '__getattribute__',\n",
       " '__getitem__',\n",
       " '__getstate__',\n",
       " '__gt__',\n",
       " '__hash__',\n",
       " '__init__',\n",
       " '__init_subclass__',\n",
       " '__ior__',\n",
       " '__iter__',\n",
       " '__le__',\n",
       " '__len__',\n",
       " '__lt__',\n",
       " '__ne__',\n",
       " '__new__',\n",
       " '__or__',\n",
       " '__reduce__',\n",
       " '__reduce_ex__',\n",
       " '__repr__',\n",
       " '__reversed__',\n",
       " '__ror__',\n",
       " '__setattr__',\n",
       " '__setitem__',\n",
       " '__sizeof__',\n",
       " '__str__',\n",
       " '__subclasshook__',\n",
       " 'clear',\n",
       " 'copy',\n",
       " 'fromkeys',\n",
       " 'get',\n",
       " 'items',\n",
       " 'keys',\n",
       " 'pop',\n",
       " 'popitem',\n",
       " 'setdefault',\n",
       " 'update',\n",
       " 'values']"
      ]
     },
     "execution_count": 1,
     "metadata": {},
     "output_type": "execute_result"
    }
   ],
   "source": [
    "dir(dict)"
   ]
  },
  {
   "cell_type": "code",
   "execution_count": 7,
   "id": "ca9a5a4c-7453-426b-9169-7de4d19ebb4e",
   "metadata": {},
   "outputs": [
    {
     "data": {
      "text/plain": [
       "{'Virat': 100, 'Rohit': 90, 'Rahul': 70, 'Hardik': 9, 'Gill': 20, 'Jadeja': 15}"
      ]
     },
     "execution_count": 7,
     "metadata": {},
     "output_type": "execute_result"
    }
   ],
   "source": [
    "scores = {'Virat': 100, 'Rohit':90, 'Rahul': 70, 'Hardik':9, 'Gill': 20, 'Jadeja': 15}\n",
    "scores"
   ]
  },
  {
   "cell_type": "code",
   "execution_count": 9,
   "id": "04f87186-21a5-4666-b4fe-357cd85626fb",
   "metadata": {},
   "outputs": [
    {
     "data": {
      "text/plain": [
       "{'Virat': 100,\n",
       " 'Rohit': 90,\n",
       " 'Rahul': 70,\n",
       " 'Hardik': 9,\n",
       " 'Gill': 20,\n",
       " 'Jadeja': 15,\n",
       " 'Aswin': 15}"
      ]
     },
     "execution_count": 9,
     "metadata": {},
     "output_type": "execute_result"
    }
   ],
   "source": [
    "scores[\"Aswin\"] = 15\n",
    "scores"
   ]
  },
  {
   "cell_type": "code",
   "execution_count": 11,
   "id": "438298ee-e4f3-47f7-a39f-7c9f2165f5fc",
   "metadata": {},
   "outputs": [
    {
     "data": {
      "text/plain": [
       "{'Virat': 100,\n",
       " 'Rohit': 90,\n",
       " 'Rahul': 70,\n",
       " 'Hardik': 9,\n",
       " 'Gill': 20,\n",
       " 'Jadeja': 50,\n",
       " 'Aswin': 15}"
      ]
     },
     "execution_count": 11,
     "metadata": {},
     "output_type": "execute_result"
    }
   ],
   "source": [
    "#Update jadeja score to 50\n",
    "scores.update({\"Jadeja\": 50})\n",
    "scores"
   ]
  },
  {
   "cell_type": "code",
   "execution_count": 15,
   "id": "6ab74c25-4e76-4994-b55c-eb395d606a1f",
   "metadata": {},
   "outputs": [
    {
     "data": {
      "text/plain": [
       "{'Virat': 100,\n",
       " 'Rohit': 90,\n",
       " 'Rahul': 70,\n",
       " 'Hardik': 9,\n",
       " 'Gill': 30,\n",
       " 'Jadeja': 50,\n",
       " 'Aswin': 15}"
      ]
     },
     "execution_count": 15,
     "metadata": {},
     "output_type": "execute_result"
    }
   ],
   "source": [
    "scores.update({\"Gill\": 30})\n",
    "scores"
   ]
  },
  {
   "cell_type": "code",
   "execution_count": 17,
   "id": "83694e36-50d2-4c72-ab1d-cd5a0e30c7cd",
   "metadata": {},
   "outputs": [
    {
     "data": {
      "text/plain": [
       "{'Virat': 100,\n",
       " 'Rohit': 80,\n",
       " 'Rahul': 70,\n",
       " 'Hardik': 29,\n",
       " 'Gill': 30,\n",
       " 'Jadeja': 50,\n",
       " 'Aswin': 15}"
      ]
     },
     "execution_count": 17,
     "metadata": {},
     "output_type": "execute_result"
    }
   ],
   "source": [
    "scores.update({\"Hardik\": 29, \"Rohit\": 80})\n",
    "scores"
   ]
  },
  {
   "cell_type": "code",
   "execution_count": 30,
   "id": "ce44c3cf-e88a-458b-91a2-3da48d4dda73",
   "metadata": {},
   "outputs": [
    {
     "data": {
      "text/plain": [
       "{'Virat': 100,\n",
       " 'Rohit': 80,\n",
       " 'Rahul': 70,\n",
       " 'Hardik': 29,\n",
       " 'Gill': 30,\n",
       " 'Jadeja': 50,\n",
       " 'Aswin': 15}"
      ]
     },
     "execution_count": 30,
     "metadata": {},
     "output_type": "execute_result"
    }
   ],
   "source": [
    "#setdefault will not update\n",
    "scores.setdefault('Rahul', 60)\n",
    "scores"
   ]
  },
  {
   "cell_type": "code",
   "execution_count": 34,
   "id": "a9abd4da-6ab6-444d-9e8e-421b14a04b8f",
   "metadata": {},
   "outputs": [
    {
     "data": {
      "text/plain": [
       "{'Virat': 100,\n",
       " 'Rohit': 80,\n",
       " 'Rahul': 70,\n",
       " 'Hardik': 29,\n",
       " 'Gill': 30,\n",
       " 'Jadeja': 50,\n",
       " 'Aswin': 15,\n",
       " 'Pujara': 50}"
      ]
     },
     "execution_count": 34,
     "metadata": {},
     "output_type": "execute_result"
    }
   ],
   "source": [
    "scores.setdefault('Pujara', 50)\n",
    "scores\n",
    "#Pujara is not present so it will add"
   ]
  },
  {
   "cell_type": "code",
   "execution_count": 38,
   "id": "ca273c99-80b2-47dc-bf3a-3b35a3f3f40c",
   "metadata": {},
   "outputs": [
    {
     "data": {
      "text/plain": [
       "{'Virat': 100,\n",
       " 'Rohit': 80,\n",
       " 'Rahul': 70,\n",
       " 'Hardik': 29,\n",
       " 'Gill': 30,\n",
       " 'Jadeja': 50}"
      ]
     },
     "execution_count": 38,
     "metadata": {},
     "output_type": "execute_result"
    }
   ],
   "source": [
    "#Last pair will be removed by popitem() method\n",
    "scores.popitem()\n",
    "scores"
   ]
  },
  {
   "cell_type": "code",
   "execution_count": 40,
   "id": "f1eb6add-4682-487d-84ee-16edafc7d415",
   "metadata": {},
   "outputs": [
    {
     "data": {
      "text/plain": [
       "{'Virat': 100, 'Rohit': 80, 'Rahul': 70, 'Hardik': 29, 'Jadeja': 50}"
      ]
     },
     "execution_count": 40,
     "metadata": {},
     "output_type": "execute_result"
    }
   ],
   "source": [
    "scores.pop('Gill')\n",
    "scores"
   ]
  },
  {
   "cell_type": "code",
   "execution_count": 46,
   "id": "bc6d239c-ab6e-4726-acef-047e9e0b0321",
   "metadata": {},
   "outputs": [
    {
     "data": {
      "text/plain": [
       "100"
      ]
     },
     "execution_count": 46,
     "metadata": {},
     "output_type": "execute_result"
    }
   ],
   "source": [
    "#Retrieve value from dict by get() method\n",
    "scores.get(\"Virat\")"
   ]
  },
  {
   "cell_type": "code",
   "execution_count": 48,
   "id": "a837797b-4477-4894-b703-d4968af0ab09",
   "metadata": {},
   "outputs": [
    {
     "data": {
      "text/plain": [
       "{'A': None, 'B': None, 'C': None, 'D': None}"
      ]
     },
     "execution_count": 48,
     "metadata": {},
     "output_type": "execute_result"
    }
   ],
   "source": [
    "#use of fromkeys() method to create a new dict\n",
    "list1 = [\"A\",\"B\",\"C\",\"D\"]\n",
    "my_dict = dict.fromkeys(list1)\n",
    "my_dict"
   ]
  },
  {
   "cell_type": "code",
   "execution_count": 52,
   "id": "a9092d56-bed0-4056-9e6d-5fd9768e2478",
   "metadata": {},
   "outputs": [
    {
     "data": {
      "text/plain": [
       "{'A': 10, 'B': 20, 'C': None, 'D': None}"
      ]
     },
     "execution_count": 52,
     "metadata": {},
     "output_type": "execute_result"
    }
   ],
   "source": [
    "my_dict.update({\"A\":10,\"B\":20})\n",
    "my_dict"
   ]
  },
  {
   "cell_type": "code",
   "execution_count": 56,
   "id": "b6b565c4-ac7b-4f95-8cf9-b74e8ffbc420",
   "metadata": {},
   "outputs": [
    {
     "name": "stdout",
     "output_type": "stream",
     "text": [
      "dict_keys(['Virat', 'Rohit', 'Rahul', 'Hardik', 'Jadeja'])\n",
      "dict_values([100, 80, 70, 19, 50])\n",
      "dict_items([('Virat', 100), ('Rohit', 80), ('Rahul', 70), ('Hardik', 19), ('Jadeja', 50)])\n"
     ]
    }
   ],
   "source": [
    "print(scores.keys())\n",
    "print(scores.values())\n",
    "print(scores.items())"
   ]
  },
  {
   "cell_type": "code",
   "execution_count": 60,
   "id": "f39d556f-0bb3-4174-99ca-76b77784f863",
   "metadata": {},
   "outputs": [
    {
     "data": {
      "text/plain": [
       "{'Virat': 100, 'Rohit': 80, 'Rahul': 70, 'Hardik': 19, 'Jadeja': 50}"
      ]
     },
     "execution_count": 60,
     "metadata": {},
     "output_type": "execute_result"
    }
   ],
   "source": [
    "#for loop to access the dictionaries\n",
    "#use for loop to update 'Hardik' score to 19\n",
    "for k in scores.keys():\n",
    "    if k == 'Hardik':\n",
    "        scores[k] = 19\n",
    "scores"
   ]
  },
  {
   "cell_type": "code",
   "execution_count": 62,
   "id": "c02c11f3-91f1-4b50-aadc-f3b40688024a",
   "metadata": {},
   "outputs": [
    {
     "name": "stdout",
     "output_type": "stream",
     "text": [
      "[100, 80, 70, 19, 50]\n",
      "Total Score:  319\n"
     ]
    }
   ],
   "source": [
    "#use for loop to compute total scores\n",
    "scores_list = []\n",
    "for v in scores.values():\n",
    "    scores_list.append(v)\n",
    "print(scores_list)\n",
    "print(\"Total Score: \", sum(scores_list))"
   ]
  },
  {
   "cell_type": "code",
   "execution_count": 64,
   "id": "d4e87849-7641-4fa3-b3c5-4157d82c1c14",
   "metadata": {},
   "outputs": [
    {
     "name": "stdout",
     "output_type": "stream",
     "text": [
      "319\n",
      "Contribution of Virat to total score: 31.347962382445143\n",
      "Contribution of Rohit to total score: 25.07836990595611\n",
      "Contribution of Rahul to total score: 21.9435736677116\n",
      "Contribution of Hardik to total score: 5.956112852664576\n",
      "Contribution of Jadeja to total score: 15.673981191222571\n"
     ]
    }
   ],
   "source": [
    "#use for loop to compute each cricketr's contribution to total score\n",
    "total_score = sum(scores.values())\n",
    "print(total_score)\n",
    "\n",
    "for k,v in scores.items():\n",
    "    print(f\"Contribution of {k} to total score: {(v/total_score)*100}\")"
   ]
  },
  {
   "cell_type": "code",
   "execution_count": null,
   "id": "d4d714dc-890e-48d6-8275-bba936bede8c",
   "metadata": {},
   "outputs": [],
   "source": []
  }
 ],
 "metadata": {
  "kernelspec": {
   "display_name": "Python [conda env:base] *",
   "language": "python",
   "name": "conda-base-py"
  },
  "language_info": {
   "codemirror_mode": {
    "name": "ipython",
    "version": 3
   },
   "file_extension": ".py",
   "mimetype": "text/x-python",
   "name": "python",
   "nbconvert_exporter": "python",
   "pygments_lexer": "ipython3",
   "version": "3.12.7"
  }
 },
 "nbformat": 4,
 "nbformat_minor": 5
}
