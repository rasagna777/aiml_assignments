{
 "cells": [
  {
   "cell_type": "code",
   "execution_count": null,
   "id": "73b4494d-32c5-46e0-8fd6-24708d90acf8",
   "metadata": {},
   "outputs": [],
   "source": []
  }
 ],
 "metadata": {
  "kernelspec": {
   "display_name": "",
   "name": ""
  },
  "language_info": {
   "name": ""
  }
 },
 "nbformat": 4,
 "nbformat_minor": 5
}
