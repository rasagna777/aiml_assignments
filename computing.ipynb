{
 "cells": [
  {
   "cell_type": "code",
   "execution_count": 13,
   "id": "a2328ae2-ebcb-4742-9f49-c5fa94a33594",
   "metadata": {},
   "outputs": [],
   "source": [
    "import My_module"
   ]
  },
  {
   "cell_type": "code",
   "execution_count": 7,
   "id": "7e4e284a-92f7-42b1-b0be-dd29f012b1e7",
   "metadata": {},
   "outputs": [
    {
     "name": "stdout",
     "output_type": "stream",
     "text": [
      "Good Morning Rasagna!\n"
     ]
    }
   ],
   "source": [
    "My_module.greet(\"Rasagna\")"
   ]
  },
  {
   "cell_type": "code",
   "execution_count": 9,
   "id": "3da260cc-bd93-4f98-b093-2926d869c31a",
   "metadata": {},
   "outputs": [
    {
     "data": {
      "text/plain": [
       "[10, 16, 18]"
      ]
     },
     "execution_count": 9,
     "metadata": {},
     "output_type": "execute_result"
    }
   ],
   "source": [
    "My_module.even([10,13,16,18,11])"
   ]
  },
  {
   "cell_type": "code",
   "execution_count": 11,
   "id": "9d2445cb-91a9-4cfa-8c35-2d9cb6b66c43",
   "metadata": {},
   "outputs": [
    {
     "data": {
      "text/plain": [
       "6000"
      ]
     },
     "execution_count": 11,
     "metadata": {},
     "output_type": "execute_result"
    }
   ],
   "source": [
    "My_module.product(10,20,30)"
   ]
  },
  {
   "cell_type": "code",
   "execution_count": null,
   "id": "edff7a46-3352-45f4-a0f7-118f621e7d4c",
   "metadata": {},
   "outputs": [],
   "source": []
  }
 ],
 "metadata": {
  "kernelspec": {
   "display_name": "Python [conda env:base] *",
   "language": "python",
   "name": "conda-base-py"
  },
  "language_info": {
   "codemirror_mode": {
    "name": "ipython",
    "version": 3
   },
   "file_extension": ".py",
   "mimetype": "text/x-python",
   "name": "python",
   "nbconvert_exporter": "python",
   "pygments_lexer": "ipython3",
   "version": "3.12.7"
  }
 },
 "nbformat": 4,
 "nbformat_minor": 5
}
