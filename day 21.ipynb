{
 "cells": [
  {
   "cell_type": "code",
   "execution_count": null,
   "id": "f82583eb-cc4d-42d2-8f38-1bae84bd4139",
   "metadata": {},
   "outputs": [],
   "source": [
    "#!/usr/bin/env python\n",
    "# coding: utf-8\n",
    "\n",
    "# In[1]:\n",
    "\n",
    "\n",
    "import pandas as pd\n",
    "import seaborn as sns\n",
    "import matplotlib.pyplot as plt\n",
    "import numpy as np\n",
    "\n",
    "# Load the dataset\n",
    "file_path = 'Civil_Engineering_Regression_Dataset.csv'\n",
    "df = pd.read_csv(file_path)\n",
    "\n",
    "# Display the first few rows\n",
    "print(\"First few rows of the dataset:\")\n",
    "print(df.head())\n",
    "\n",
    "# Identify independent and dependent variables\n",
    "dependent_var = 'Construction Cost'  # Assuming this is the target variable\n",
    "independent_vars = [col for col in df.columns if col != dependent_var]\n",
    "print(\"\\nIndependent Variables:\", independent_vars)\n",
    "print(\"Dependent Variable:\", dependent_var)\n",
    "\n",
    "# Check for missing values\n",
    "missing_values = df.isnull().sum()\n",
    "print(\"\\nMissing values in the dataset:\")\n",
    "print(missing_values[missing_values > 0])\n",
    "\n",
    "# Handle missing values (example: filling with median)\n",
    "df.fillna(df.median(), inplace=True)\n",
    "\n",
    "# Generate summary statistics\n",
    "summary_stats = df.describe()\n",
    "print(\"\\nSummary statistics:\")\n",
    "print(summary_stats)\n",
    "\n",
    "# Create a correlation heatmap\n",
    "plt.figure(figsize=(10, 6))\n",
    "corr_matrix = df.corr()\n",
    "sns.heatmap(corr_matrix, annot=True, cmap='coolwarm', fmt='.2f')\n",
    "plt.title('Correlation Heatmap')\n",
    "plt.show()\n",
    "\n",
    "# Interpretation: Correlation of Construction Cost with other factors\n",
    "corr_with_cost = corr_matrix[dependent_var].drop(dependent_var)\n",
    "print(\"\\nCorrelation of Construction Cost with other factors:\")\n",
    "print(corr_with_cost.sort_values(ascending=False))\n",
    "\n"
   ]
  },
  {
   "cell_type": "code",
   "execution_count": null,
   "id": "4ff6a3e6-61fb-4eae-8c6b-89c4471033eb",
   "metadata": {},
   "outputs": [],
   "source": []
  }
 ],
 "metadata": {
  "kernelspec": {
   "display_name": "Python [conda env:base] *",
   "language": "python",
   "name": "conda-base-py"
  },
  "language_info": {
   "codemirror_mode": {
    "name": "ipython",
    "version": 3
   },
   "file_extension": ".py",
   "mimetype": "text/x-python",
   "name": "python",
   "nbconvert_exporter": "python",
   "pygments_lexer": "ipython3",
   "version": "3.12.7"
  }
 },
 "nbformat": 4,
 "nbformat_minor": 5
}
